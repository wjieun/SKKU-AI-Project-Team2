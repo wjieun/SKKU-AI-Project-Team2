{
  "cells": [
    {
      "cell_type": "code",
      "execution_count": null,
      "metadata": {
        "id": "zkpMvyhoIxw4"
      },
      "outputs": [],
      "source": []
    },
    {
      "cell_type": "markdown",
      "metadata": {
        "id": "qcXjW9O82se0"
      },
      "source": [
        "# 감정선 classification\n",
        "\n",
        "감정선"
      ]
    },
    {
      "cell_type": "code",
      "execution_count": null,
      "metadata": {
        "id": "3CQPOXaoj1aG"
      },
      "outputs": [],
      "source": [
        "import os\n",
        "import numpy as np\n",
        "import pandas as pd\n",
        "import tensorflow as tf\n",
        "from tensorflow.keras.models import Sequential\n",
        "from tensorflow.keras.layers import GlobalAveragePooling2D, Dense, Dropout\n",
        "from sklearn.model_selection import train_test_split\n",
        "from tensorflow.keras.utils import to_categorical\n",
        "from PIL import Image\n",
        "from tqdm.auto import tqdm\n",
        "\n",
        "from tensorflow.keras.applications import MobileNetV2\n",
        "from tensorflow.keras.callbacks import EarlyStopping, ModelCheckpoint"
      ]
    },
    {
      "cell_type": "code",
      "execution_count": null,
      "metadata": {
        "colab": {
          "base_uri": "https://localhost:8080/"
        },
        "id": "dFmEVGrvj1cq",
        "outputId": "81daea88-dfd2-452c-ad70-b6f32572dd86"
      },
      "outputs": [
        {
          "output_type": "stream",
          "name": "stdout",
          "text": [
            "Mounted at /content/drive\n"
          ]
        }
      ],
      "source": [
        "from google.colab import drive\n",
        "drive.mount('/content/drive')"
      ]
    },
    {
      "cell_type": "code",
      "execution_count": null,
      "metadata": {
        "colab": {
          "base_uri": "https://localhost:8080/"
        },
        "id": "iZLgM2zlj1eK",
        "outputId": "de73d716-e558-4c7a-daeb-569056729098"
      },
      "outputs": [
        {
          "output_type": "stream",
          "name": "stdout",
          "text": [
            "/content/drive/MyDrive/Colab Notebooks/AI_Project/인지프 팀플/classification/data\n"
          ]
        }
      ],
      "source": [
        "%cd /content/drive/MyDrive/Colab Notebooks/AI_Project/인지프 팀플/classification/data"
      ]
    },
    {
      "cell_type": "code",
      "execution_count": null,
      "metadata": {
        "id": "aYtAd6Txj1gV"
      },
      "outputs": [],
      "source": [
        "df = pd.read_excel('label4.xlsx')\n",
        "df = df[~df['label'].str.contains(\"-\")]  # Filter out invalid entries"
      ]
    },
    {
      "cell_type": "code",
      "execution_count": null,
      "metadata": {
        "colab": {
          "base_uri": "https://localhost:8080/"
        },
        "id": "v46PNkcHm7Xi",
        "outputId": "40a4af58-93da-42c5-8ad4-cbb6e013540d"
      },
      "outputs": [
        {
          "output_type": "stream",
          "name": "stdout",
          "text": [
            "     File Number  life head  heart label\n",
            "0              1     0    0      0   000\n",
            "1              2     0    0      0   000\n",
            "2              5     0    1      0   010\n",
            "3             12     0    0      1   001\n",
            "4             13     0    1      0   010\n",
            "..           ...   ...  ...    ...   ...\n",
            "974         5353     0    0      1   001\n",
            "975         5354     1    0      1   101\n",
            "976         5366     0    0      0   000\n",
            "977         5367     0    0      0   000\n",
            "979         5385     0    0      1   001\n",
            "\n",
            "[925 rows x 5 columns]\n"
          ]
        }
      ],
      "source": [
        "print(df)"
      ]
    },
    {
      "cell_type": "code",
      "execution_count": null,
      "metadata": {
        "id": "xqILmGVcj1lf"
      },
      "outputs": [],
      "source": [
        "train_df, test_df = train_test_split(df, test_size=0.2, random_state=42)"
      ]
    },
    {
      "cell_type": "code",
      "execution_count": null,
      "metadata": {
        "id": "6FI9Z_w8mV-5"
      },
      "outputs": [],
      "source": [
        "def load_and_preprocess_images(image_df):\n",
        "    images = []\n",
        "    for idx, row in tqdm(image_df.iterrows(), total=image_df.shape[0]):\n",
        "        image_path = os.path.join('./heart', f\"image{row['File Number']}.png\")\n",
        "        image = Image.open(image_path).resize((128, 128))\n",
        "        image = np.array(image) / 255.0\n",
        "        if image.ndim == 2 or image.shape[2] == 1:\n",
        "            image = np.stack((image,)*3, axis=-1)  # Convert grayscale to RGB\n",
        "        images.append(image)\n",
        "    return np.array(images)"
      ]
    },
    {
      "cell_type": "code",
      "execution_count": null,
      "metadata": {
        "colab": {
          "base_uri": "https://localhost:8080/",
          "height": 81,
          "referenced_widgets": [
            "8ad99f57ce5248048291f74eae9c25e3",
            "d14730bd1f8143c797e4243dd44e3c6b",
            "14e987206af7422f8c82c693cb2df745",
            "10705f1aa3854a3e8a0c57387ac1e718",
            "0270d632c849493489dae25d6b695b47",
            "af853de35fbf488eb0262d1c96931916",
            "3ad6b42d801d4398b0becc74e782a1af",
            "edc76c7c581f4240ab04e38f2d973512",
            "7123652986d44ee6bbbdcb2671453b37",
            "d902cb9382f94bbfb78d67dfcde9cfa7",
            "a064ccc379a2414fb9b6f5aafb61c295",
            "be8acdfadb5a4643bd0e95b12d04afe4",
            "68b7d62759664b55a25ad23787fb314b",
            "d717a685f61b4917adf7ef2803574a86",
            "25552ff172b047a3ad52c6ecf947c52a",
            "dc53670d3ac04720b695c99420b0b0cd",
            "40889329f7a449f9bb397b01fea3320b",
            "5dd22cd378574a96b3a1c6367e9841ae",
            "fa0eb6d3f2a5464896b04890f5b3cd2b",
            "2d3a9e28f47949b78b345a2487bea703",
            "1cd214b5266441d89a14372f241b5a0c",
            "e5b04a781aca415b9b71d0b438a7005b"
          ]
        },
        "id": "RWZ9VHjMrI4Q",
        "outputId": "cdf2b7f1-2c80-4735-b7c2-ce81d3c54863"
      },
      "outputs": [
        {
          "output_type": "display_data",
          "data": {
            "text/plain": [
              "  0%|          | 0/740 [00:00<?, ?it/s]"
            ],
            "application/vnd.jupyter.widget-view+json": {
              "version_major": 2,
              "version_minor": 0,
              "model_id": "8ad99f57ce5248048291f74eae9c25e3"
            }
          },
          "metadata": {}
        },
        {
          "output_type": "display_data",
          "data": {
            "text/plain": [
              "  0%|          | 0/185 [00:00<?, ?it/s]"
            ],
            "application/vnd.jupyter.widget-view+json": {
              "version_major": 2,
              "version_minor": 0,
              "model_id": "be8acdfadb5a4643bd0e95b12d04afe4"
            }
          },
          "metadata": {}
        }
      ],
      "source": [
        "train_images = load_and_preprocess_images(train_df)\n",
        "test_images = load_and_preprocess_images(test_df)"
      ]
    },
    {
      "cell_type": "code",
      "execution_count": null,
      "metadata": {
        "id": "xfd6JmtqmWA_"
      },
      "outputs": [],
      "source": [
        "train_labels = to_categorical(train_df['heart'], num_classes=2)\n",
        "test_labels = to_categorical(test_df['heart'], num_classes=2)"
      ]
    },
    {
      "cell_type": "code",
      "source": [
        "print(train_labels)"
      ],
      "metadata": {
        "colab": {
          "base_uri": "https://localhost:8080/"
        },
        "id": "vX8OU1q5EH0p",
        "outputId": "b45240a2-c86b-4d55-f114-f5f588325daf"
      },
      "execution_count": null,
      "outputs": [
        {
          "output_type": "stream",
          "name": "stdout",
          "text": [
            "[[0. 1.]\n",
            " [1. 0.]\n",
            " [0. 1.]\n",
            " ...\n",
            " [0. 1.]\n",
            " [0. 1.]\n",
            " [0. 1.]]\n"
          ]
        }
      ]
    },
    {
      "cell_type": "code",
      "source": [
        "train_labels = train_df['heart'].values\n",
        "test_labels = test_df['heart'].values"
      ],
      "metadata": {
        "id": "UzMcLzXJEYiA"
      },
      "execution_count": null,
      "outputs": []
    },
    {
      "cell_type": "code",
      "source": [
        "print(train_labels)"
      ],
      "metadata": {
        "colab": {
          "base_uri": "https://localhost:8080/"
        },
        "id": "8RAvyK4OEap1",
        "outputId": "6aed39d3-52b2-48f8-97cf-3a1b7fca5bbc"
      },
      "execution_count": null,
      "outputs": [
        {
          "output_type": "stream",
          "name": "stdout",
          "text": [
            "[1 0 1 0 0 0 1 1 0 1 1 0 0 0 1 0 0 0 0 0 0 0 0 1 0 0 1 1 1 1 0 1 0 0 0 1 0\n",
            " 1 1 0 0 0 0 1 0 1 0 0 1 1 1 0 0 0 0 0 1 1 0 0 1 1 1 1 1 1 1 0 0 1 1 0 1 0\n",
            " 0 0 0 0 0 0 1 0 1 1 0 1 1 1 0 0 1 0 1 1 0 0 1 0 1 0 1 1 1 0 1 0 0 1 1 0 0\n",
            " 0 0 0 0 0 1 0 1 0 1 1 0 0 1 0 1 0 1 0 1 0 1 0 0 1 0 1 0 0 0 0 0 1 0 1 0 1\n",
            " 0 0 1 0 0 0 0 0 1 1 0 0 1 1 1 0 0 0 1 0 1 0 1 0 0 1 1 1 1 1 0 1 1 0 0 0 1\n",
            " 1 1 1 1 1 0 1 0 0 0 0 0 1 1 1 0 0 1 1 0 0 1 1 0 1 0 0 0 0 0 1 0 1 0 0 0 1\n",
            " 1 1 1 1 1 0 0 0 1 0 0 0 1 1 1 1 0 1 1 0 1 1 0 1 0 1 1 0 0 1 1 1 1 0 0 0 0\n",
            " 0 0 0 0 0 0 0 0 1 0 1 0 1 1 0 1 0 1 1 1 0 0 1 1 1 1 0 1 0 1 1 1 1 0 0 0 1\n",
            " 0 0 0 1 0 0 0 1 0 1 0 0 1 0 0 1 0 0 1 1 0 0 1 0 1 1 0 0 0 0 1 0 0 1 0 1 1\n",
            " 0 1 1 0 1 1 1 0 1 0 1 1 1 0 0 1 1 0 1 0 0 0 0 1 1 1 1 1 0 0 0 1 0 0 1 0 0\n",
            " 0 0 1 1 1 0 1 0 0 0 0 1 1 0 1 1 1 0 0 1 1 1 1 1 1 0 1 1 0 0 0 0 1 0 1 1 1\n",
            " 0 0 0 1 1 1 1 0 1 1 1 0 1 0 0 1 0 0 0 1 1 1 1 1 1 0 1 1 1 1 0 0 1 0 0 1 0\n",
            " 0 0 1 0 1 0 0 0 0 1 0 0 1 0 0 0 0 1 0 1 1 0 1 0 0 1 1 0 0 0 0 1 0 0 0 0 0\n",
            " 1 1 1 1 1 0 0 0 0 0 0 1 0 1 0 0 0 0 0 0 1 0 0 0 1 0 0 0 0 0 1 1 1 0 1 0 0\n",
            " 1 0 1 1 0 0 0 0 0 0 0 0 0 0 1 0 1 0 1 1 1 1 0 0 0 0 0 0 0 1 0 0 1 1 0 0 1\n",
            " 1 1 0 1 0 1 0 1 1 1 1 0 1 1 1 0 0 1 1 1 1 1 1 1 1 0 0 1 1 0 1 0 0 1 1 1 1\n",
            " 0 1 0 0 1 1 0 1 0 1 0 0 1 1 0 1 1 0 0 0 1 1 0 0 0 0 0 1 0 0 0 0 1 1 0 1 1\n",
            " 1 0 1 1 0 1 0 0 1 1 0 1 0 1 1 1 1 0 0 0 1 0 0 0 0 0 1 1 1 0 1 0 0 0 1 0 0\n",
            " 1 0 1 1 1 1 0 0 0 0 0 0 0 1 1 1 0 1 0 0 1 0 1 0 0 0 0 0 0 0 0 1 0 0 1 1 1\n",
            " 0 0 0 1 1 1 1 0 1 1 0 1 1 1 0 1 0 0 0 0 0 1 1 0 0 0 0 0 1 1 0 1 1 0 1 1 1]\n"
          ]
        }
      ]
    },
    {
      "cell_type": "code",
      "execution_count": null,
      "metadata": {
        "id": "CbEVbALAwp8n",
        "colab": {
          "base_uri": "https://localhost:8080/"
        },
        "outputId": "9eff467d-ffb2-4181-e740-4b8763ad690d"
      },
      "outputs": [
        {
          "output_type": "stream",
          "name": "stdout",
          "text": [
            "Downloading data from https://storage.googleapis.com/tensorflow/keras-applications/mobilenet_v2/mobilenet_v2_weights_tf_dim_ordering_tf_kernels_1.0_128_no_top.h5\n",
            "9406464/9406464 [==============================] - 0s 0us/step\n"
          ]
        }
      ],
      "source": [
        "# Initialize MobileNetV2 model with pretrained ImageNet weights\n",
        "base_model = MobileNetV2(weights='imagenet', include_top=False, input_shape=(128, 128, 3))\n",
        "base_model.trainable = False  # Freeze base model\n",
        "\n",
        "\n",
        "model = Sequential([\n",
        "    base_model,\n",
        "    GlobalAveragePooling2D(),\n",
        "    Dense(128, activation='relu'),\n",
        "    Dropout(0.5),\n",
        "    Dense(8, activation='relu'),\n",
        "    Dropout(0.5),\n",
        "    Dense(1, activation='sigmoid')  # 1 unit for binary classification\n",
        "])"
      ]
    },
    {
      "cell_type": "code",
      "execution_count": null,
      "metadata": {
        "id": "cNPlv_i_mcCw"
      },
      "outputs": [],
      "source": [
        "# Compile the model\n",
        "model.compile(optimizer='adam', loss='binary_crossentropy', metrics=['binary_accuracy'])"
      ]
    },
    {
      "cell_type": "code",
      "execution_count": null,
      "metadata": {
        "id": "zue39f9Nw_cm",
        "colab": {
          "base_uri": "https://localhost:8080/"
        },
        "outputId": "880366e7-aded-43bd-835d-0f7063a70763"
      },
      "outputs": [
        {
          "output_type": "stream",
          "name": "stdout",
          "text": [
            "Epoch 1/50\n",
            "24/24 [==============================] - 10s 289ms/step - loss: 0.7468 - binary_accuracy: 0.4973 - val_loss: 0.6930 - val_binary_accuracy: 0.5351\n",
            "Epoch 2/50\n",
            "24/24 [==============================] - 6s 232ms/step - loss: 0.6846 - binary_accuracy: 0.5351 - val_loss: 0.6909 - val_binary_accuracy: 0.5351\n",
            "Epoch 3/50\n",
            "24/24 [==============================] - 8s 317ms/step - loss: 0.6658 - binary_accuracy: 0.5514 - val_loss: 0.6475 - val_binary_accuracy: 0.6270\n",
            "Epoch 4/50\n",
            "24/24 [==============================] - 6s 239ms/step - loss: 0.6566 - binary_accuracy: 0.5784 - val_loss: 0.5776 - val_binary_accuracy: 0.8108\n",
            "Epoch 5/50\n",
            "24/24 [==============================] - 7s 304ms/step - loss: 0.6110 - binary_accuracy: 0.6257 - val_loss: 0.5584 - val_binary_accuracy: 0.8432\n",
            "Epoch 6/50\n",
            "24/24 [==============================] - 5s 229ms/step - loss: 0.6202 - binary_accuracy: 0.6243 - val_loss: 0.5688 - val_binary_accuracy: 0.8432\n",
            "Epoch 7/50\n",
            "24/24 [==============================] - 9s 401ms/step - loss: 0.6018 - binary_accuracy: 0.6622 - val_loss: 0.5355 - val_binary_accuracy: 0.8541\n",
            "Epoch 8/50\n",
            "24/24 [==============================] - 5s 218ms/step - loss: 0.5680 - binary_accuracy: 0.6946 - val_loss: 0.4739 - val_binary_accuracy: 0.8216\n",
            "Epoch 9/50\n",
            "24/24 [==============================] - 7s 276ms/step - loss: 0.5408 - binary_accuracy: 0.7027 - val_loss: 0.4368 - val_binary_accuracy: 0.8541\n",
            "Epoch 10/50\n",
            "24/24 [==============================] - 6s 235ms/step - loss: 0.5368 - binary_accuracy: 0.7068 - val_loss: 0.4603 - val_binary_accuracy: 0.8270\n",
            "Epoch 11/50\n",
            "24/24 [==============================] - 6s 259ms/step - loss: 0.5503 - binary_accuracy: 0.7108 - val_loss: 0.4753 - val_binary_accuracy: 0.8595\n",
            "Epoch 12/50\n",
            "24/24 [==============================] - 6s 256ms/step - loss: 0.5158 - binary_accuracy: 0.7270 - val_loss: 0.4217 - val_binary_accuracy: 0.8595\n",
            "Epoch 13/50\n",
            "24/24 [==============================] - 5s 219ms/step - loss: 0.5118 - binary_accuracy: 0.7581 - val_loss: 0.4276 - val_binary_accuracy: 0.8595\n",
            "Epoch 14/50\n",
            "24/24 [==============================] - 7s 289ms/step - loss: 0.4907 - binary_accuracy: 0.7622 - val_loss: 0.4269 - val_binary_accuracy: 0.8541\n",
            "Epoch 15/50\n",
            "24/24 [==============================] - 5s 226ms/step - loss: 0.4904 - binary_accuracy: 0.7635 - val_loss: 0.4181 - val_binary_accuracy: 0.8595\n",
            "Epoch 16/50\n",
            "24/24 [==============================] - 6s 249ms/step - loss: 0.4876 - binary_accuracy: 0.7757 - val_loss: 0.4184 - val_binary_accuracy: 0.8432\n",
            "Epoch 17/50\n",
            "24/24 [==============================] - 6s 257ms/step - loss: 0.4944 - binary_accuracy: 0.7635 - val_loss: 0.4090 - val_binary_accuracy: 0.8595\n",
            "Epoch 18/50\n",
            "24/24 [==============================] - 5s 216ms/step - loss: 0.4923 - binary_accuracy: 0.7757 - val_loss: 0.4029 - val_binary_accuracy: 0.8595\n",
            "Epoch 19/50\n",
            "24/24 [==============================] - 7s 310ms/step - loss: 0.4961 - binary_accuracy: 0.7730 - val_loss: 0.4226 - val_binary_accuracy: 0.8703\n",
            "Epoch 20/50\n",
            "24/24 [==============================] - 5s 229ms/step - loss: 0.4718 - binary_accuracy: 0.7878 - val_loss: 0.3967 - val_binary_accuracy: 0.8703\n",
            "Epoch 21/50\n",
            "24/24 [==============================] - 6s 270ms/step - loss: 0.4845 - binary_accuracy: 0.7770 - val_loss: 0.4105 - val_binary_accuracy: 0.8486\n",
            "Epoch 22/50\n",
            "24/24 [==============================] - 6s 229ms/step - loss: 0.4635 - binary_accuracy: 0.7932 - val_loss: 0.3989 - val_binary_accuracy: 0.8595\n",
            "Epoch 23/50\n",
            "24/24 [==============================] - 5s 230ms/step - loss: 0.4522 - binary_accuracy: 0.7824 - val_loss: 0.4023 - val_binary_accuracy: 0.8649\n",
            "Epoch 24/50\n",
            "24/24 [==============================] - 7s 286ms/step - loss: 0.4563 - binary_accuracy: 0.7946 - val_loss: 0.3920 - val_binary_accuracy: 0.8649\n",
            "Epoch 25/50\n",
            "24/24 [==============================] - 6s 232ms/step - loss: 0.4654 - binary_accuracy: 0.7824 - val_loss: 0.3902 - val_binary_accuracy: 0.8703\n",
            "Epoch 26/50\n",
            "24/24 [==============================] - 7s 283ms/step - loss: 0.5000 - binary_accuracy: 0.7486 - val_loss: 0.4405 - val_binary_accuracy: 0.8541\n",
            "Epoch 27/50\n",
            "24/24 [==============================] - 5s 220ms/step - loss: 0.4474 - binary_accuracy: 0.8189 - val_loss: 0.4079 - val_binary_accuracy: 0.8162\n",
            "Epoch 28/50\n",
            "24/24 [==============================] - 6s 232ms/step - loss: 0.4379 - binary_accuracy: 0.7973 - val_loss: 0.3988 - val_binary_accuracy: 0.8595\n",
            "Epoch 29/50\n",
            "24/24 [==============================] - 7s 278ms/step - loss: 0.4476 - binary_accuracy: 0.8162 - val_loss: 0.3983 - val_binary_accuracy: 0.8649\n",
            "Epoch 30/50\n",
            "24/24 [==============================] - 5s 230ms/step - loss: 0.4363 - binary_accuracy: 0.7959 - val_loss: 0.3929 - val_binary_accuracy: 0.8595\n",
            "Epoch 30: early stopping\n"
          ]
        }
      ],
      "source": [
        "# Callbacks for early stopping and saving the best model\n",
        "callbacks = [\n",
        "    EarlyStopping(patience=5, verbose=1),\n",
        "    ModelCheckpoint('heart_best_model.h5', monitor=\"val_binary_accuracy\", save_best_only=True, save_weights_only=True)\n",
        "]\n",
        "\n",
        "history = model.fit(\n",
        "    train_images, train_labels,\n",
        "    validation_data=(test_images, test_labels),\n",
        "    batch_size=32,\n",
        "    epochs=50,\n",
        "    callbacks=callbacks\n",
        ")\n",
        "\n",
        "# Load the best weights and unfreeze the base_model for fine-tuning\n",
        "model.load_weights('heart_best_model.h5')\n",
        "base_model.trainable = True"
      ]
    },
    {
      "cell_type": "code",
      "source": [
        "base_model = MobileNetV2(weights='imagenet', include_top=False, input_shape=(128, 128, 3))\n",
        "base_model.trainable = False  # Freeze base model\n",
        "\n",
        "\n",
        "model = Sequential([\n",
        "    base_model,\n",
        "    GlobalAveragePooling2D(),\n",
        "    Dense(128, activation='relu'),\n",
        "    Dropout(0.5),\n",
        "    Dense(8, activation='relu'),\n",
        "    Dropout(0.5),\n",
        "    Dense(1, activation='sigmoid')  # 1 unit for binary classification\n",
        "])\n",
        "\n",
        "model.load_weights('heart_best_model.h5')"
      ],
      "metadata": {
        "colab": {
          "base_uri": "https://localhost:8080/"
        },
        "id": "CCzk8q5WKzfn",
        "outputId": "ed8ab0ae-2b06-430f-9cff-3edb3dfc1869"
      },
      "execution_count": null,
      "outputs": [
        {
          "output_type": "stream",
          "name": "stdout",
          "text": [
            "Downloading data from https://storage.googleapis.com/tensorflow/keras-applications/mobilenet_v2/mobilenet_v2_weights_tf_dim_ordering_tf_kernels_1.0_128_no_top.h5\n",
            "9406464/9406464 [==============================] - 0s 0us/step\n"
          ]
        }
      ]
    },
    {
      "cell_type": "code",
      "source": [
        "# Compile the model\n",
        "model.compile(optimizer='adam', loss='binary_crossentropy', metrics=['binary_accuracy'])"
      ],
      "metadata": {
        "id": "4dIC6nZoMnwF"
      },
      "execution_count": null,
      "outputs": []
    },
    {
      "cell_type": "code",
      "execution_count": null,
      "metadata": {
        "id": "_XPNJA4DH968",
        "colab": {
          "base_uri": "https://localhost:8080/"
        },
        "outputId": "75b3257e-cfcc-44f0-bcd9-1a180e2e9a06"
      },
      "outputs": [
        {
          "output_type": "stream",
          "name": "stdout",
          "text": [
            "6/6 [==============================] - 3s 265ms/step - loss: 0.4226 - binary_accuracy: 0.8703\n",
            "Test accuracy: 87.03%\n"
          ]
        }
      ],
      "source": [
        "# Evaluate the model on the test set.\n",
        "test_loss, test_accuracy = model.evaluate(test_images, test_labels)\n",
        "print(f\"Test accuracy: {test_accuracy * 100:.2f}%\")"
      ]
    },
    {
      "cell_type": "code",
      "source": [
        "from sklearn.metrics import f1_score\n",
        "\n",
        "# Predict on the test set\n",
        "test_predictions = model.predict(test_images)\n",
        "test_predictions = (test_predictions > 0.5).astype(\"int32\")  # Convert probabilities to binary predictions\n",
        "\n",
        "# Calculate the F1 score\n",
        "f1_macro = f1_score(test_labels, test_predictions, average='macro')\n",
        "f1_micro = f1_score(test_labels, test_predictions, average='micro')\n",
        "f1_weighted = f1_score(test_labels, test_predictions, average='weighted')\n",
        "f1_none = f1_score(test_labels, test_predictions, average=None)\n",
        "print(f\"F1 Score(macro): {f1_macro}\")\n",
        "print(f\"F1 Score(micro): {f1_micro}\")\n",
        "print(f\"F1 Score(weighted): {f1_weighted}\")\n",
        "print(f\"F1 Score(none): {f1_none}\")"
      ],
      "metadata": {
        "colab": {
          "base_uri": "https://localhost:8080/"
        },
        "id": "x4D0ydNjSyq_",
        "outputId": "d85a472b-a175-47bb-b5f2-62dbf5e6f2b0"
      },
      "execution_count": null,
      "outputs": [
        {
          "output_type": "stream",
          "name": "stdout",
          "text": [
            "6/6 [==============================] - 4s 616ms/step\n",
            "F1 Score(macro): 0.8691654879773691\n",
            "F1 Score(micro): 0.8702702702702703\n",
            "F1 Score(weighted): 0.8700103214954701\n",
            "F1 Score(none): [0.88118812 0.85714286]\n"
          ]
        }
      ]
    },
    {
      "cell_type": "code",
      "source": [],
      "metadata": {
        "id": "Vw58YdtsHY_0"
      },
      "execution_count": null,
      "outputs": []
    }
  ],
  "metadata": {
    "colab": {
      "provenance": []
    },
    "kernelspec": {
      "display_name": "Python 3",
      "name": "python3"
    },
    "language_info": {
      "name": "python"
    },
    "widgets": {
      "application/vnd.jupyter.widget-state+json": {
        "8ad99f57ce5248048291f74eae9c25e3": {
          "model_module": "@jupyter-widgets/controls",
          "model_name": "HBoxModel",
          "model_module_version": "1.5.0",
          "state": {
            "_dom_classes": [],
            "_model_module": "@jupyter-widgets/controls",
            "_model_module_version": "1.5.0",
            "_model_name": "HBoxModel",
            "_view_count": null,
            "_view_module": "@jupyter-widgets/controls",
            "_view_module_version": "1.5.0",
            "_view_name": "HBoxView",
            "box_style": "",
            "children": [
              "IPY_MODEL_d14730bd1f8143c797e4243dd44e3c6b",
              "IPY_MODEL_14e987206af7422f8c82c693cb2df745",
              "IPY_MODEL_10705f1aa3854a3e8a0c57387ac1e718"
            ],
            "layout": "IPY_MODEL_0270d632c849493489dae25d6b695b47"
          }
        },
        "d14730bd1f8143c797e4243dd44e3c6b": {
          "model_module": "@jupyter-widgets/controls",
          "model_name": "HTMLModel",
          "model_module_version": "1.5.0",
          "state": {
            "_dom_classes": [],
            "_model_module": "@jupyter-widgets/controls",
            "_model_module_version": "1.5.0",
            "_model_name": "HTMLModel",
            "_view_count": null,
            "_view_module": "@jupyter-widgets/controls",
            "_view_module_version": "1.5.0",
            "_view_name": "HTMLView",
            "description": "",
            "description_tooltip": null,
            "layout": "IPY_MODEL_af853de35fbf488eb0262d1c96931916",
            "placeholder": "​",
            "style": "IPY_MODEL_3ad6b42d801d4398b0becc74e782a1af",
            "value": "100%"
          }
        },
        "14e987206af7422f8c82c693cb2df745": {
          "model_module": "@jupyter-widgets/controls",
          "model_name": "FloatProgressModel",
          "model_module_version": "1.5.0",
          "state": {
            "_dom_classes": [],
            "_model_module": "@jupyter-widgets/controls",
            "_model_module_version": "1.5.0",
            "_model_name": "FloatProgressModel",
            "_view_count": null,
            "_view_module": "@jupyter-widgets/controls",
            "_view_module_version": "1.5.0",
            "_view_name": "ProgressView",
            "bar_style": "success",
            "description": "",
            "description_tooltip": null,
            "layout": "IPY_MODEL_edc76c7c581f4240ab04e38f2d973512",
            "max": 740,
            "min": 0,
            "orientation": "horizontal",
            "style": "IPY_MODEL_7123652986d44ee6bbbdcb2671453b37",
            "value": 740
          }
        },
        "10705f1aa3854a3e8a0c57387ac1e718": {
          "model_module": "@jupyter-widgets/controls",
          "model_name": "HTMLModel",
          "model_module_version": "1.5.0",
          "state": {
            "_dom_classes": [],
            "_model_module": "@jupyter-widgets/controls",
            "_model_module_version": "1.5.0",
            "_model_name": "HTMLModel",
            "_view_count": null,
            "_view_module": "@jupyter-widgets/controls",
            "_view_module_version": "1.5.0",
            "_view_name": "HTMLView",
            "description": "",
            "description_tooltip": null,
            "layout": "IPY_MODEL_d902cb9382f94bbfb78d67dfcde9cfa7",
            "placeholder": "​",
            "style": "IPY_MODEL_a064ccc379a2414fb9b6f5aafb61c295",
            "value": " 740/740 [03:15&lt;00:00,  4.36it/s]"
          }
        },
        "0270d632c849493489dae25d6b695b47": {
          "model_module": "@jupyter-widgets/base",
          "model_name": "LayoutModel",
          "model_module_version": "1.2.0",
          "state": {
            "_model_module": "@jupyter-widgets/base",
            "_model_module_version": "1.2.0",
            "_model_name": "LayoutModel",
            "_view_count": null,
            "_view_module": "@jupyter-widgets/base",
            "_view_module_version": "1.2.0",
            "_view_name": "LayoutView",
            "align_content": null,
            "align_items": null,
            "align_self": null,
            "border": null,
            "bottom": null,
            "display": null,
            "flex": null,
            "flex_flow": null,
            "grid_area": null,
            "grid_auto_columns": null,
            "grid_auto_flow": null,
            "grid_auto_rows": null,
            "grid_column": null,
            "grid_gap": null,
            "grid_row": null,
            "grid_template_areas": null,
            "grid_template_columns": null,
            "grid_template_rows": null,
            "height": null,
            "justify_content": null,
            "justify_items": null,
            "left": null,
            "margin": null,
            "max_height": null,
            "max_width": null,
            "min_height": null,
            "min_width": null,
            "object_fit": null,
            "object_position": null,
            "order": null,
            "overflow": null,
            "overflow_x": null,
            "overflow_y": null,
            "padding": null,
            "right": null,
            "top": null,
            "visibility": null,
            "width": null
          }
        },
        "af853de35fbf488eb0262d1c96931916": {
          "model_module": "@jupyter-widgets/base",
          "model_name": "LayoutModel",
          "model_module_version": "1.2.0",
          "state": {
            "_model_module": "@jupyter-widgets/base",
            "_model_module_version": "1.2.0",
            "_model_name": "LayoutModel",
            "_view_count": null,
            "_view_module": "@jupyter-widgets/base",
            "_view_module_version": "1.2.0",
            "_view_name": "LayoutView",
            "align_content": null,
            "align_items": null,
            "align_self": null,
            "border": null,
            "bottom": null,
            "display": null,
            "flex": null,
            "flex_flow": null,
            "grid_area": null,
            "grid_auto_columns": null,
            "grid_auto_flow": null,
            "grid_auto_rows": null,
            "grid_column": null,
            "grid_gap": null,
            "grid_row": null,
            "grid_template_areas": null,
            "grid_template_columns": null,
            "grid_template_rows": null,
            "height": null,
            "justify_content": null,
            "justify_items": null,
            "left": null,
            "margin": null,
            "max_height": null,
            "max_width": null,
            "min_height": null,
            "min_width": null,
            "object_fit": null,
            "object_position": null,
            "order": null,
            "overflow": null,
            "overflow_x": null,
            "overflow_y": null,
            "padding": null,
            "right": null,
            "top": null,
            "visibility": null,
            "width": null
          }
        },
        "3ad6b42d801d4398b0becc74e782a1af": {
          "model_module": "@jupyter-widgets/controls",
          "model_name": "DescriptionStyleModel",
          "model_module_version": "1.5.0",
          "state": {
            "_model_module": "@jupyter-widgets/controls",
            "_model_module_version": "1.5.0",
            "_model_name": "DescriptionStyleModel",
            "_view_count": null,
            "_view_module": "@jupyter-widgets/base",
            "_view_module_version": "1.2.0",
            "_view_name": "StyleView",
            "description_width": ""
          }
        },
        "edc76c7c581f4240ab04e38f2d973512": {
          "model_module": "@jupyter-widgets/base",
          "model_name": "LayoutModel",
          "model_module_version": "1.2.0",
          "state": {
            "_model_module": "@jupyter-widgets/base",
            "_model_module_version": "1.2.0",
            "_model_name": "LayoutModel",
            "_view_count": null,
            "_view_module": "@jupyter-widgets/base",
            "_view_module_version": "1.2.0",
            "_view_name": "LayoutView",
            "align_content": null,
            "align_items": null,
            "align_self": null,
            "border": null,
            "bottom": null,
            "display": null,
            "flex": null,
            "flex_flow": null,
            "grid_area": null,
            "grid_auto_columns": null,
            "grid_auto_flow": null,
            "grid_auto_rows": null,
            "grid_column": null,
            "grid_gap": null,
            "grid_row": null,
            "grid_template_areas": null,
            "grid_template_columns": null,
            "grid_template_rows": null,
            "height": null,
            "justify_content": null,
            "justify_items": null,
            "left": null,
            "margin": null,
            "max_height": null,
            "max_width": null,
            "min_height": null,
            "min_width": null,
            "object_fit": null,
            "object_position": null,
            "order": null,
            "overflow": null,
            "overflow_x": null,
            "overflow_y": null,
            "padding": null,
            "right": null,
            "top": null,
            "visibility": null,
            "width": null
          }
        },
        "7123652986d44ee6bbbdcb2671453b37": {
          "model_module": "@jupyter-widgets/controls",
          "model_name": "ProgressStyleModel",
          "model_module_version": "1.5.0",
          "state": {
            "_model_module": "@jupyter-widgets/controls",
            "_model_module_version": "1.5.0",
            "_model_name": "ProgressStyleModel",
            "_view_count": null,
            "_view_module": "@jupyter-widgets/base",
            "_view_module_version": "1.2.0",
            "_view_name": "StyleView",
            "bar_color": null,
            "description_width": ""
          }
        },
        "d902cb9382f94bbfb78d67dfcde9cfa7": {
          "model_module": "@jupyter-widgets/base",
          "model_name": "LayoutModel",
          "model_module_version": "1.2.0",
          "state": {
            "_model_module": "@jupyter-widgets/base",
            "_model_module_version": "1.2.0",
            "_model_name": "LayoutModel",
            "_view_count": null,
            "_view_module": "@jupyter-widgets/base",
            "_view_module_version": "1.2.0",
            "_view_name": "LayoutView",
            "align_content": null,
            "align_items": null,
            "align_self": null,
            "border": null,
            "bottom": null,
            "display": null,
            "flex": null,
            "flex_flow": null,
            "grid_area": null,
            "grid_auto_columns": null,
            "grid_auto_flow": null,
            "grid_auto_rows": null,
            "grid_column": null,
            "grid_gap": null,
            "grid_row": null,
            "grid_template_areas": null,
            "grid_template_columns": null,
            "grid_template_rows": null,
            "height": null,
            "justify_content": null,
            "justify_items": null,
            "left": null,
            "margin": null,
            "max_height": null,
            "max_width": null,
            "min_height": null,
            "min_width": null,
            "object_fit": null,
            "object_position": null,
            "order": null,
            "overflow": null,
            "overflow_x": null,
            "overflow_y": null,
            "padding": null,
            "right": null,
            "top": null,
            "visibility": null,
            "width": null
          }
        },
        "a064ccc379a2414fb9b6f5aafb61c295": {
          "model_module": "@jupyter-widgets/controls",
          "model_name": "DescriptionStyleModel",
          "model_module_version": "1.5.0",
          "state": {
            "_model_module": "@jupyter-widgets/controls",
            "_model_module_version": "1.5.0",
            "_model_name": "DescriptionStyleModel",
            "_view_count": null,
            "_view_module": "@jupyter-widgets/base",
            "_view_module_version": "1.2.0",
            "_view_name": "StyleView",
            "description_width": ""
          }
        },
        "be8acdfadb5a4643bd0e95b12d04afe4": {
          "model_module": "@jupyter-widgets/controls",
          "model_name": "HBoxModel",
          "model_module_version": "1.5.0",
          "state": {
            "_dom_classes": [],
            "_model_module": "@jupyter-widgets/controls",
            "_model_module_version": "1.5.0",
            "_model_name": "HBoxModel",
            "_view_count": null,
            "_view_module": "@jupyter-widgets/controls",
            "_view_module_version": "1.5.0",
            "_view_name": "HBoxView",
            "box_style": "",
            "children": [
              "IPY_MODEL_68b7d62759664b55a25ad23787fb314b",
              "IPY_MODEL_d717a685f61b4917adf7ef2803574a86",
              "IPY_MODEL_25552ff172b047a3ad52c6ecf947c52a"
            ],
            "layout": "IPY_MODEL_dc53670d3ac04720b695c99420b0b0cd"
          }
        },
        "68b7d62759664b55a25ad23787fb314b": {
          "model_module": "@jupyter-widgets/controls",
          "model_name": "HTMLModel",
          "model_module_version": "1.5.0",
          "state": {
            "_dom_classes": [],
            "_model_module": "@jupyter-widgets/controls",
            "_model_module_version": "1.5.0",
            "_model_name": "HTMLModel",
            "_view_count": null,
            "_view_module": "@jupyter-widgets/controls",
            "_view_module_version": "1.5.0",
            "_view_name": "HTMLView",
            "description": "",
            "description_tooltip": null,
            "layout": "IPY_MODEL_40889329f7a449f9bb397b01fea3320b",
            "placeholder": "​",
            "style": "IPY_MODEL_5dd22cd378574a96b3a1c6367e9841ae",
            "value": "100%"
          }
        },
        "d717a685f61b4917adf7ef2803574a86": {
          "model_module": "@jupyter-widgets/controls",
          "model_name": "FloatProgressModel",
          "model_module_version": "1.5.0",
          "state": {
            "_dom_classes": [],
            "_model_module": "@jupyter-widgets/controls",
            "_model_module_version": "1.5.0",
            "_model_name": "FloatProgressModel",
            "_view_count": null,
            "_view_module": "@jupyter-widgets/controls",
            "_view_module_version": "1.5.0",
            "_view_name": "ProgressView",
            "bar_style": "success",
            "description": "",
            "description_tooltip": null,
            "layout": "IPY_MODEL_fa0eb6d3f2a5464896b04890f5b3cd2b",
            "max": 185,
            "min": 0,
            "orientation": "horizontal",
            "style": "IPY_MODEL_2d3a9e28f47949b78b345a2487bea703",
            "value": 185
          }
        },
        "25552ff172b047a3ad52c6ecf947c52a": {
          "model_module": "@jupyter-widgets/controls",
          "model_name": "HTMLModel",
          "model_module_version": "1.5.0",
          "state": {
            "_dom_classes": [],
            "_model_module": "@jupyter-widgets/controls",
            "_model_module_version": "1.5.0",
            "_model_name": "HTMLModel",
            "_view_count": null,
            "_view_module": "@jupyter-widgets/controls",
            "_view_module_version": "1.5.0",
            "_view_name": "HTMLView",
            "description": "",
            "description_tooltip": null,
            "layout": "IPY_MODEL_1cd214b5266441d89a14372f241b5a0c",
            "placeholder": "​",
            "style": "IPY_MODEL_e5b04a781aca415b9b71d0b438a7005b",
            "value": " 185/185 [00:48&lt;00:00,  3.98it/s]"
          }
        },
        "dc53670d3ac04720b695c99420b0b0cd": {
          "model_module": "@jupyter-widgets/base",
          "model_name": "LayoutModel",
          "model_module_version": "1.2.0",
          "state": {
            "_model_module": "@jupyter-widgets/base",
            "_model_module_version": "1.2.0",
            "_model_name": "LayoutModel",
            "_view_count": null,
            "_view_module": "@jupyter-widgets/base",
            "_view_module_version": "1.2.0",
            "_view_name": "LayoutView",
            "align_content": null,
            "align_items": null,
            "align_self": null,
            "border": null,
            "bottom": null,
            "display": null,
            "flex": null,
            "flex_flow": null,
            "grid_area": null,
            "grid_auto_columns": null,
            "grid_auto_flow": null,
            "grid_auto_rows": null,
            "grid_column": null,
            "grid_gap": null,
            "grid_row": null,
            "grid_template_areas": null,
            "grid_template_columns": null,
            "grid_template_rows": null,
            "height": null,
            "justify_content": null,
            "justify_items": null,
            "left": null,
            "margin": null,
            "max_height": null,
            "max_width": null,
            "min_height": null,
            "min_width": null,
            "object_fit": null,
            "object_position": null,
            "order": null,
            "overflow": null,
            "overflow_x": null,
            "overflow_y": null,
            "padding": null,
            "right": null,
            "top": null,
            "visibility": null,
            "width": null
          }
        },
        "40889329f7a449f9bb397b01fea3320b": {
          "model_module": "@jupyter-widgets/base",
          "model_name": "LayoutModel",
          "model_module_version": "1.2.0",
          "state": {
            "_model_module": "@jupyter-widgets/base",
            "_model_module_version": "1.2.0",
            "_model_name": "LayoutModel",
            "_view_count": null,
            "_view_module": "@jupyter-widgets/base",
            "_view_module_version": "1.2.0",
            "_view_name": "LayoutView",
            "align_content": null,
            "align_items": null,
            "align_self": null,
            "border": null,
            "bottom": null,
            "display": null,
            "flex": null,
            "flex_flow": null,
            "grid_area": null,
            "grid_auto_columns": null,
            "grid_auto_flow": null,
            "grid_auto_rows": null,
            "grid_column": null,
            "grid_gap": null,
            "grid_row": null,
            "grid_template_areas": null,
            "grid_template_columns": null,
            "grid_template_rows": null,
            "height": null,
            "justify_content": null,
            "justify_items": null,
            "left": null,
            "margin": null,
            "max_height": null,
            "max_width": null,
            "min_height": null,
            "min_width": null,
            "object_fit": null,
            "object_position": null,
            "order": null,
            "overflow": null,
            "overflow_x": null,
            "overflow_y": null,
            "padding": null,
            "right": null,
            "top": null,
            "visibility": null,
            "width": null
          }
        },
        "5dd22cd378574a96b3a1c6367e9841ae": {
          "model_module": "@jupyter-widgets/controls",
          "model_name": "DescriptionStyleModel",
          "model_module_version": "1.5.0",
          "state": {
            "_model_module": "@jupyter-widgets/controls",
            "_model_module_version": "1.5.0",
            "_model_name": "DescriptionStyleModel",
            "_view_count": null,
            "_view_module": "@jupyter-widgets/base",
            "_view_module_version": "1.2.0",
            "_view_name": "StyleView",
            "description_width": ""
          }
        },
        "fa0eb6d3f2a5464896b04890f5b3cd2b": {
          "model_module": "@jupyter-widgets/base",
          "model_name": "LayoutModel",
          "model_module_version": "1.2.0",
          "state": {
            "_model_module": "@jupyter-widgets/base",
            "_model_module_version": "1.2.0",
            "_model_name": "LayoutModel",
            "_view_count": null,
            "_view_module": "@jupyter-widgets/base",
            "_view_module_version": "1.2.0",
            "_view_name": "LayoutView",
            "align_content": null,
            "align_items": null,
            "align_self": null,
            "border": null,
            "bottom": null,
            "display": null,
            "flex": null,
            "flex_flow": null,
            "grid_area": null,
            "grid_auto_columns": null,
            "grid_auto_flow": null,
            "grid_auto_rows": null,
            "grid_column": null,
            "grid_gap": null,
            "grid_row": null,
            "grid_template_areas": null,
            "grid_template_columns": null,
            "grid_template_rows": null,
            "height": null,
            "justify_content": null,
            "justify_items": null,
            "left": null,
            "margin": null,
            "max_height": null,
            "max_width": null,
            "min_height": null,
            "min_width": null,
            "object_fit": null,
            "object_position": null,
            "order": null,
            "overflow": null,
            "overflow_x": null,
            "overflow_y": null,
            "padding": null,
            "right": null,
            "top": null,
            "visibility": null,
            "width": null
          }
        },
        "2d3a9e28f47949b78b345a2487bea703": {
          "model_module": "@jupyter-widgets/controls",
          "model_name": "ProgressStyleModel",
          "model_module_version": "1.5.0",
          "state": {
            "_model_module": "@jupyter-widgets/controls",
            "_model_module_version": "1.5.0",
            "_model_name": "ProgressStyleModel",
            "_view_count": null,
            "_view_module": "@jupyter-widgets/base",
            "_view_module_version": "1.2.0",
            "_view_name": "StyleView",
            "bar_color": null,
            "description_width": ""
          }
        },
        "1cd214b5266441d89a14372f241b5a0c": {
          "model_module": "@jupyter-widgets/base",
          "model_name": "LayoutModel",
          "model_module_version": "1.2.0",
          "state": {
            "_model_module": "@jupyter-widgets/base",
            "_model_module_version": "1.2.0",
            "_model_name": "LayoutModel",
            "_view_count": null,
            "_view_module": "@jupyter-widgets/base",
            "_view_module_version": "1.2.0",
            "_view_name": "LayoutView",
            "align_content": null,
            "align_items": null,
            "align_self": null,
            "border": null,
            "bottom": null,
            "display": null,
            "flex": null,
            "flex_flow": null,
            "grid_area": null,
            "grid_auto_columns": null,
            "grid_auto_flow": null,
            "grid_auto_rows": null,
            "grid_column": null,
            "grid_gap": null,
            "grid_row": null,
            "grid_template_areas": null,
            "grid_template_columns": null,
            "grid_template_rows": null,
            "height": null,
            "justify_content": null,
            "justify_items": null,
            "left": null,
            "margin": null,
            "max_height": null,
            "max_width": null,
            "min_height": null,
            "min_width": null,
            "object_fit": null,
            "object_position": null,
            "order": null,
            "overflow": null,
            "overflow_x": null,
            "overflow_y": null,
            "padding": null,
            "right": null,
            "top": null,
            "visibility": null,
            "width": null
          }
        },
        "e5b04a781aca415b9b71d0b438a7005b": {
          "model_module": "@jupyter-widgets/controls",
          "model_name": "DescriptionStyleModel",
          "model_module_version": "1.5.0",
          "state": {
            "_model_module": "@jupyter-widgets/controls",
            "_model_module_version": "1.5.0",
            "_model_name": "DescriptionStyleModel",
            "_view_count": null,
            "_view_module": "@jupyter-widgets/base",
            "_view_module_version": "1.2.0",
            "_view_name": "StyleView",
            "description_width": ""
          }
        }
      }
    }
  },
  "nbformat": 4,
  "nbformat_minor": 0
}
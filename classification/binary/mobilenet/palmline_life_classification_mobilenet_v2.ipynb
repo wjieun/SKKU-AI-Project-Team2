{
  "cells": [
    {
      "cell_type": "code",
      "execution_count": null,
      "metadata": {
        "id": "zkpMvyhoIxw4"
      },
      "outputs": [],
      "source": []
    },
    {
      "cell_type": "markdown",
      "metadata": {
        "id": "qcXjW9O82se0"
      },
      "source": [
        "# 생명선 classification\n",
        "\n",
        "생명선"
      ]
    },
    {
      "cell_type": "code",
      "execution_count": null,
      "metadata": {
        "id": "3CQPOXaoj1aG"
      },
      "outputs": [],
      "source": [
        "import os\n",
        "import numpy as np\n",
        "import pandas as pd\n",
        "import tensorflow as tf\n",
        "from tensorflow.keras.models import Sequential\n",
        "from tensorflow.keras.layers import GlobalAveragePooling2D, Dense, Dropout\n",
        "from sklearn.model_selection import train_test_split\n",
        "from tensorflow.keras.utils import to_categorical\n",
        "from PIL import Image\n",
        "from tqdm.auto import tqdm\n",
        "\n",
        "from tensorflow.keras.applications import MobileNetV2\n",
        "from tensorflow.keras.callbacks import EarlyStopping, ModelCheckpoint"
      ]
    },
    {
      "cell_type": "code",
      "execution_count": null,
      "metadata": {
        "colab": {
          "base_uri": "https://localhost:8080/"
        },
        "id": "dFmEVGrvj1cq",
        "outputId": "7e302762-1293-4f5c-a4e7-a0641583bc27"
      },
      "outputs": [
        {
          "output_type": "stream",
          "name": "stdout",
          "text": [
            "Mounted at /content/drive\n"
          ]
        }
      ],
      "source": [
        "from google.colab import drive\n",
        "drive.mount('/content/drive')"
      ]
    },
    {
      "cell_type": "code",
      "execution_count": null,
      "metadata": {
        "colab": {
          "base_uri": "https://localhost:8080/"
        },
        "id": "iZLgM2zlj1eK",
        "outputId": "23b79f9f-c2b1-4319-b08c-d86b560cc8da"
      },
      "outputs": [
        {
          "output_type": "stream",
          "name": "stdout",
          "text": [
            "/content/drive/MyDrive/Colab Notebooks/AI_Project/인지프 팀플/classification/data\n"
          ]
        }
      ],
      "source": [
        "%cd /content/drive/MyDrive/Colab Notebooks/AI_Project/인지프 팀플/classification/data"
      ]
    },
    {
      "cell_type": "code",
      "execution_count": null,
      "metadata": {
        "id": "aYtAd6Txj1gV"
      },
      "outputs": [],
      "source": [
        "df = pd.read_excel('label4.xlsx')\n",
        "df = df[~df['label'].str.contains(\"-\")]  # Filter out invalid entries"
      ]
    },
    {
      "cell_type": "code",
      "execution_count": null,
      "metadata": {
        "colab": {
          "base_uri": "https://localhost:8080/"
        },
        "id": "v46PNkcHm7Xi",
        "outputId": "c58cc0a7-01bb-461c-f209-9479ff4eb2a6"
      },
      "outputs": [
        {
          "output_type": "stream",
          "name": "stdout",
          "text": [
            "     File Number  life head  heart label\n",
            "0              1     0    0      0   000\n",
            "1              2     0    0      0   000\n",
            "2              5     0    1      0   010\n",
            "3             12     0    0      1   001\n",
            "4             13     0    1      0   010\n",
            "..           ...   ...  ...    ...   ...\n",
            "974         5353     0    0      1   001\n",
            "975         5354     1    0      1   101\n",
            "976         5366     0    0      0   000\n",
            "977         5367     0    0      0   000\n",
            "979         5385     0    0      1   001\n",
            "\n",
            "[925 rows x 5 columns]\n"
          ]
        }
      ],
      "source": [
        "print(df)"
      ]
    },
    {
      "cell_type": "code",
      "execution_count": null,
      "metadata": {
        "id": "xqILmGVcj1lf"
      },
      "outputs": [],
      "source": [
        "train_df, test_df = train_test_split(df, test_size=0.2, random_state=42)"
      ]
    },
    {
      "cell_type": "code",
      "execution_count": null,
      "metadata": {
        "id": "6FI9Z_w8mV-5"
      },
      "outputs": [],
      "source": [
        "def load_and_preprocess_images(image_df):\n",
        "    images = []\n",
        "    for idx, row in tqdm(image_df.iterrows(), total=image_df.shape[0]):\n",
        "        image_path = os.path.join('./life', f\"image{row['File Number']}.png\")\n",
        "        image = Image.open(image_path).resize((128, 128))\n",
        "        image = np.array(image) / 255.0\n",
        "        if image.ndim == 2 or image.shape[2] == 1:\n",
        "            image = np.stack((image,)*3, axis=-1)  # Convert grayscale to RGB\n",
        "        images.append(image)\n",
        "    return np.array(images)"
      ]
    },
    {
      "cell_type": "code",
      "execution_count": null,
      "metadata": {
        "colab": {
          "base_uri": "https://localhost:8080/",
          "height": 81,
          "referenced_widgets": [
            "2c5f67361baf49209bf6456c6ff54a62",
            "5030e0dc57234f938f64388fe9489b44",
            "aee9b92efc314e25b5299002e9488c2e",
            "352f6ba8650e47a6aa02d197277a5de1",
            "7c5a0aca0f524ee392414540f64b03f6",
            "4d4e7877ba684cb2b7f07bffea43ef71",
            "237d5b8e37b84ab3ac309c5c7a925d43",
            "b5d4fa53b5754acd8a889e7d169c3af5",
            "f52d4703f7ed401085f40f74167cbae2",
            "f71f052fd7f54d929d16c9f4e4d38f3e",
            "8f125b63aca548eebb2b1c07a397fba2",
            "742efe6061de4f4fb8451528e85701f1",
            "c1773483685740859e8f970f8f77c0ad",
            "e87f438670934b9e99c4f9d4b4c3c19d",
            "014dafec385e43aba3b5d4484dd8f036",
            "d7f24c72732c417e8cf80ac594236d23",
            "9dfba7ea04bf4e259a2e3a6956026a3e",
            "49c0d3c14b5d436693a87cf0b5f75016",
            "6a06963dbf2f47dfad2d7dbe99d82088",
            "96e062aa17f34c8abcc60545dbcad806",
            "5bb16b195699441c9cc605d9757157be",
            "983d009630514ba2961749d6b074f3b4"
          ]
        },
        "id": "RWZ9VHjMrI4Q",
        "outputId": "1a2c132c-0a18-4930-ac7a-c48dabd35766"
      },
      "outputs": [
        {
          "output_type": "display_data",
          "data": {
            "text/plain": [
              "  0%|          | 0/740 [00:00<?, ?it/s]"
            ],
            "application/vnd.jupyter.widget-view+json": {
              "version_major": 2,
              "version_minor": 0,
              "model_id": "2c5f67361baf49209bf6456c6ff54a62"
            }
          },
          "metadata": {}
        },
        {
          "output_type": "display_data",
          "data": {
            "text/plain": [
              "  0%|          | 0/185 [00:00<?, ?it/s]"
            ],
            "application/vnd.jupyter.widget-view+json": {
              "version_major": 2,
              "version_minor": 0,
              "model_id": "742efe6061de4f4fb8451528e85701f1"
            }
          },
          "metadata": {}
        }
      ],
      "source": [
        "train_images = load_and_preprocess_images(train_df)\n",
        "test_images = load_and_preprocess_images(test_df)"
      ]
    },
    {
      "cell_type": "code",
      "execution_count": null,
      "metadata": {
        "id": "xfd6JmtqmWA_"
      },
      "outputs": [],
      "source": [
        "train_labels = train_df['life'].values\n",
        "test_labels = test_df['life'].values"
      ]
    },
    {
      "cell_type": "code",
      "execution_count": null,
      "metadata": {
        "id": "CbEVbALAwp8n",
        "colab": {
          "base_uri": "https://localhost:8080/"
        },
        "outputId": "1bd898e6-7c0c-4874-eb5c-e0be4fe54b1c"
      },
      "outputs": [
        {
          "output_type": "stream",
          "name": "stdout",
          "text": [
            "Downloading data from https://storage.googleapis.com/tensorflow/keras-applications/mobilenet_v2/mobilenet_v2_weights_tf_dim_ordering_tf_kernels_1.0_128_no_top.h5\n",
            "9406464/9406464 [==============================] - 0s 0us/step\n"
          ]
        }
      ],
      "source": [
        "# Initialize MobileNetV2 model with pretrained ImageNet weights\n",
        "base_model = MobileNetV2(weights='imagenet', include_top=False, input_shape=(128, 128, 3))\n",
        "base_model.trainable = False  # Freeze base model\n",
        "\n",
        "model = Sequential([\n",
        "    base_model,\n",
        "    GlobalAveragePooling2D(),\n",
        "    Dense(128, activation='relu'),\n",
        "    Dropout(0.5),\n",
        "    Dense(8, activation='relu'),\n",
        "    Dropout(0.5),\n",
        "    Dense(1, activation='sigmoid')  # 1 unit for binary classification\n",
        "])"
      ]
    },
    {
      "cell_type": "code",
      "execution_count": null,
      "metadata": {
        "id": "cNPlv_i_mcCw"
      },
      "outputs": [],
      "source": [
        "# Compile the model\n",
        "model.compile(optimizer='adam', loss='binary_crossentropy', metrics=['binary_accuracy'])"
      ]
    },
    {
      "cell_type": "code",
      "execution_count": null,
      "metadata": {
        "colab": {
          "base_uri": "https://localhost:8080/"
        },
        "id": "zue39f9Nw_cm",
        "outputId": "e7f23266-72b3-49a3-c657-4c07fcb8ea20"
      },
      "outputs": [
        {
          "output_type": "stream",
          "name": "stdout",
          "text": [
            "Epoch 1/50\n",
            "24/24 [==============================] - 17s 572ms/step - loss: 0.7073 - binary_accuracy: 0.6000 - val_loss: 0.6647 - val_binary_accuracy: 0.6108\n",
            "Epoch 2/50\n",
            "24/24 [==============================] - 9s 361ms/step - loss: 0.6633 - binary_accuracy: 0.6351 - val_loss: 0.6455 - val_binary_accuracy: 0.6108\n",
            "Epoch 3/50\n",
            "24/24 [==============================] - 12s 489ms/step - loss: 0.6629 - binary_accuracy: 0.6378 - val_loss: 0.6564 - val_binary_accuracy: 0.6108\n",
            "Epoch 4/50\n",
            "24/24 [==============================] - 10s 439ms/step - loss: 0.6520 - binary_accuracy: 0.6311 - val_loss: 0.5813 - val_binary_accuracy: 0.6108\n",
            "Epoch 5/50\n",
            "24/24 [==============================] - 11s 443ms/step - loss: 0.6416 - binary_accuracy: 0.6351 - val_loss: 0.6359 - val_binary_accuracy: 0.6108\n",
            "Epoch 6/50\n",
            "24/24 [==============================] - 12s 502ms/step - loss: 0.6093 - binary_accuracy: 0.6297 - val_loss: 0.5601 - val_binary_accuracy: 0.6108\n",
            "Epoch 7/50\n",
            "24/24 [==============================] - 9s 397ms/step - loss: 0.5880 - binary_accuracy: 0.6378 - val_loss: 0.5540 - val_binary_accuracy: 0.6108\n",
            "Epoch 8/50\n",
            "24/24 [==============================] - 12s 508ms/step - loss: 0.5820 - binary_accuracy: 0.6284 - val_loss: 0.5264 - val_binary_accuracy: 0.6108\n",
            "Epoch 9/50\n",
            "24/24 [==============================] - 12s 501ms/step - loss: 0.5643 - binary_accuracy: 0.6432 - val_loss: 0.5363 - val_binary_accuracy: 0.6108\n",
            "Epoch 10/50\n",
            "24/24 [==============================] - 10s 402ms/step - loss: 0.5696 - binary_accuracy: 0.6824 - val_loss: 0.5066 - val_binary_accuracy: 0.7946\n",
            "Epoch 11/50\n",
            "24/24 [==============================] - 13s 540ms/step - loss: 0.5411 - binary_accuracy: 0.7473 - val_loss: 0.5101 - val_binary_accuracy: 0.8378\n",
            "Epoch 12/50\n",
            "24/24 [==============================] - 14s 601ms/step - loss: 0.5337 - binary_accuracy: 0.7108 - val_loss: 0.4286 - val_binary_accuracy: 0.8703\n",
            "Epoch 13/50\n",
            "24/24 [==============================] - 9s 382ms/step - loss: 0.5035 - binary_accuracy: 0.7514 - val_loss: 0.4264 - val_binary_accuracy: 0.8378\n",
            "Epoch 14/50\n",
            "24/24 [==============================] - 11s 476ms/step - loss: 0.5254 - binary_accuracy: 0.7676 - val_loss: 0.4316 - val_binary_accuracy: 0.8486\n",
            "Epoch 15/50\n",
            "24/24 [==============================] - 13s 556ms/step - loss: 0.4988 - binary_accuracy: 0.7730 - val_loss: 0.4153 - val_binary_accuracy: 0.8486\n",
            "Epoch 16/50\n",
            "24/24 [==============================] - 9s 357ms/step - loss: 0.4991 - binary_accuracy: 0.7622 - val_loss: 0.4236 - val_binary_accuracy: 0.8270\n",
            "Epoch 17/50\n",
            "24/24 [==============================] - 13s 535ms/step - loss: 0.4536 - binary_accuracy: 0.8041 - val_loss: 0.3952 - val_binary_accuracy: 0.8324\n",
            "Epoch 18/50\n",
            "24/24 [==============================] - 13s 552ms/step - loss: 0.4465 - binary_accuracy: 0.8000 - val_loss: 0.3894 - val_binary_accuracy: 0.8541\n",
            "Epoch 19/50\n",
            "24/24 [==============================] - 9s 363ms/step - loss: 0.4397 - binary_accuracy: 0.7919 - val_loss: 0.3766 - val_binary_accuracy: 0.8216\n",
            "Epoch 20/50\n",
            "24/24 [==============================] - 13s 539ms/step - loss: 0.4599 - binary_accuracy: 0.7757 - val_loss: 0.4023 - val_binary_accuracy: 0.8541\n",
            "Epoch 21/50\n",
            "24/24 [==============================] - 13s 561ms/step - loss: 0.4338 - binary_accuracy: 0.8216 - val_loss: 0.3628 - val_binary_accuracy: 0.8486\n",
            "Epoch 22/50\n",
            "24/24 [==============================] - 9s 399ms/step - loss: 0.4362 - binary_accuracy: 0.8230 - val_loss: 0.3635 - val_binary_accuracy: 0.8649\n",
            "Epoch 23/50\n",
            "24/24 [==============================] - 12s 479ms/step - loss: 0.4543 - binary_accuracy: 0.8149 - val_loss: 0.3787 - val_binary_accuracy: 0.8649\n",
            "Epoch 24/50\n",
            "24/24 [==============================] - 13s 568ms/step - loss: 0.4345 - binary_accuracy: 0.8149 - val_loss: 0.3736 - val_binary_accuracy: 0.8324\n",
            "Epoch 25/50\n",
            "24/24 [==============================] - 9s 363ms/step - loss: 0.4510 - binary_accuracy: 0.8027 - val_loss: 0.3657 - val_binary_accuracy: 0.8703\n",
            "Epoch 26/50\n",
            "24/24 [==============================] - 12s 485ms/step - loss: 0.4117 - binary_accuracy: 0.8486 - val_loss: 0.3552 - val_binary_accuracy: 0.8595\n",
            "Epoch 27/50\n",
            "24/24 [==============================] - 13s 536ms/step - loss: 0.4071 - binary_accuracy: 0.8446 - val_loss: 0.3490 - val_binary_accuracy: 0.8649\n",
            "Epoch 28/50\n",
            "24/24 [==============================] - 9s 361ms/step - loss: 0.4059 - binary_accuracy: 0.8324 - val_loss: 0.3708 - val_binary_accuracy: 0.8486\n",
            "Epoch 29/50\n",
            "24/24 [==============================] - 12s 498ms/step - loss: 0.3938 - binary_accuracy: 0.8392 - val_loss: 0.3658 - val_binary_accuracy: 0.8595\n",
            "Epoch 30/50\n",
            "24/24 [==============================] - 12s 509ms/step - loss: 0.4186 - binary_accuracy: 0.8000 - val_loss: 0.3518 - val_binary_accuracy: 0.8541\n",
            "Epoch 31/50\n",
            "24/24 [==============================] - 9s 373ms/step - loss: 0.4098 - binary_accuracy: 0.8216 - val_loss: 0.3603 - val_binary_accuracy: 0.8541\n",
            "Epoch 32/50\n",
            "24/24 [==============================] - 13s 543ms/step - loss: 0.4011 - binary_accuracy: 0.8257 - val_loss: 0.3661 - val_binary_accuracy: 0.8649\n",
            "Epoch 32: early stopping\n"
          ]
        }
      ],
      "source": [
        "# Callbacks for early stopping and saving the best model\n",
        "callbacks = [\n",
        "    EarlyStopping(patience=5, verbose=1),\n",
        "    ModelCheckpoint('life_best_model.h5', monitor=\"val_binary_accuracy\", save_best_only=True, save_weights_only=True)\n",
        "]\n",
        "\n",
        "history = model.fit(\n",
        "    train_images, train_labels,\n",
        "    validation_data=(test_images, test_labels),\n",
        "    batch_size=32,\n",
        "    epochs=50,  # May increase if model is not overfitting\n",
        "    callbacks=callbacks\n",
        ")\n",
        "\n",
        "# Load the best weights and unfreeze the base_model for fine-tuning\n",
        "model.load_weights('life_best_model.h5')\n",
        "base_model.trainable = True"
      ]
    },
    {
      "cell_type": "code",
      "source": [],
      "metadata": {
        "id": "lCLQmqnBM7LM"
      },
      "execution_count": null,
      "outputs": []
    },
    {
      "cell_type": "code",
      "source": [
        "model.load_weights('life_best_model.h5')"
      ],
      "metadata": {
        "id": "STAP_6H2M7I1"
      },
      "execution_count": null,
      "outputs": []
    },
    {
      "cell_type": "code",
      "execution_count": null,
      "metadata": {
        "colab": {
          "base_uri": "https://localhost:8080/"
        },
        "id": "_XPNJA4DH968",
        "outputId": "41d3cbf8-cd5b-4043-f906-88cc3b900a70"
      },
      "outputs": [
        {
          "output_type": "stream",
          "name": "stdout",
          "text": [
            "6/6 [==============================] - 5s 373ms/step - loss: 0.4286 - binary_accuracy: 0.8703\n",
            "Test accuracy: 87.03%\n"
          ]
        }
      ],
      "source": [
        "# Evaluate the model on the test set.\n",
        "test_loss, test_accuracy = model.evaluate(test_images, test_labels)\n",
        "print(f\"Test accuracy: {test_accuracy * 100:.2f}%\")"
      ]
    },
    {
      "cell_type": "code",
      "source": [
        "from sklearn.metrics import f1_score\n",
        "\n",
        "# Predict on the test set\n",
        "test_predictions = model.predict(test_images)\n",
        "test_predictions = (test_predictions > 0.5).astype(\"int32\")  # Convert probabilities to binary predictions\n",
        "\n",
        "# Calculate the F1 score\n",
        "f1_macro = f1_score(test_labels, test_predictions, average='macro')\n",
        "f1_micro = f1_score(test_labels, test_predictions, average='micro')\n",
        "f1_weighted = f1_score(test_labels, test_predictions, average='weighted')\n",
        "f1_none = f1_score(test_labels, test_predictions, average=None)\n",
        "print(f\"F1 Score(macro): {f1_macro}\")\n",
        "print(f\"F1 Score(micro): {f1_micro}\")\n",
        "print(f\"F1 Score(weighted): {f1_weighted}\")\n",
        "print(f\"F1 Score(none): {f1_none}\")"
      ],
      "metadata": {
        "colab": {
          "base_uri": "https://localhost:8080/"
        },
        "id": "HqjLlmdTSxUw",
        "outputId": "576c018b-ab46-43bf-b2f5-284afde346b9"
      },
      "execution_count": null,
      "outputs": [
        {
          "output_type": "stream",
          "name": "stdout",
          "text": [
            "6/6 [==============================] - 3s 280ms/step\n",
            "F1 Score(macro): 0.8604826546003017\n",
            "F1 Score(micro): 0.8702702702702703\n",
            "F1 Score(weighted): 0.868672292201704\n",
            "F1 Score(none): [0.8974359  0.82352941]\n"
          ]
        }
      ]
    },
    {
      "cell_type": "code",
      "source": [],
      "metadata": {
        "id": "mj0QGZ6cHUJu"
      },
      "execution_count": null,
      "outputs": []
    }
  ],
  "metadata": {
    "colab": {
      "provenance": []
    },
    "kernelspec": {
      "display_name": "Python 3",
      "name": "python3"
    },
    "language_info": {
      "name": "python"
    },
    "widgets": {
      "application/vnd.jupyter.widget-state+json": {
        "2c5f67361baf49209bf6456c6ff54a62": {
          "model_module": "@jupyter-widgets/controls",
          "model_name": "HBoxModel",
          "model_module_version": "1.5.0",
          "state": {
            "_dom_classes": [],
            "_model_module": "@jupyter-widgets/controls",
            "_model_module_version": "1.5.0",
            "_model_name": "HBoxModel",
            "_view_count": null,
            "_view_module": "@jupyter-widgets/controls",
            "_view_module_version": "1.5.0",
            "_view_name": "HBoxView",
            "box_style": "",
            "children": [
              "IPY_MODEL_5030e0dc57234f938f64388fe9489b44",
              "IPY_MODEL_aee9b92efc314e25b5299002e9488c2e",
              "IPY_MODEL_352f6ba8650e47a6aa02d197277a5de1"
            ],
            "layout": "IPY_MODEL_7c5a0aca0f524ee392414540f64b03f6"
          }
        },
        "5030e0dc57234f938f64388fe9489b44": {
          "model_module": "@jupyter-widgets/controls",
          "model_name": "HTMLModel",
          "model_module_version": "1.5.0",
          "state": {
            "_dom_classes": [],
            "_model_module": "@jupyter-widgets/controls",
            "_model_module_version": "1.5.0",
            "_model_name": "HTMLModel",
            "_view_count": null,
            "_view_module": "@jupyter-widgets/controls",
            "_view_module_version": "1.5.0",
            "_view_name": "HTMLView",
            "description": "",
            "description_tooltip": null,
            "layout": "IPY_MODEL_4d4e7877ba684cb2b7f07bffea43ef71",
            "placeholder": "​",
            "style": "IPY_MODEL_237d5b8e37b84ab3ac309c5c7a925d43",
            "value": "100%"
          }
        },
        "aee9b92efc314e25b5299002e9488c2e": {
          "model_module": "@jupyter-widgets/controls",
          "model_name": "FloatProgressModel",
          "model_module_version": "1.5.0",
          "state": {
            "_dom_classes": [],
            "_model_module": "@jupyter-widgets/controls",
            "_model_module_version": "1.5.0",
            "_model_name": "FloatProgressModel",
            "_view_count": null,
            "_view_module": "@jupyter-widgets/controls",
            "_view_module_version": "1.5.0",
            "_view_name": "ProgressView",
            "bar_style": "success",
            "description": "",
            "description_tooltip": null,
            "layout": "IPY_MODEL_b5d4fa53b5754acd8a889e7d169c3af5",
            "max": 740,
            "min": 0,
            "orientation": "horizontal",
            "style": "IPY_MODEL_f52d4703f7ed401085f40f74167cbae2",
            "value": 740
          }
        },
        "352f6ba8650e47a6aa02d197277a5de1": {
          "model_module": "@jupyter-widgets/controls",
          "model_name": "HTMLModel",
          "model_module_version": "1.5.0",
          "state": {
            "_dom_classes": [],
            "_model_module": "@jupyter-widgets/controls",
            "_model_module_version": "1.5.0",
            "_model_name": "HTMLModel",
            "_view_count": null,
            "_view_module": "@jupyter-widgets/controls",
            "_view_module_version": "1.5.0",
            "_view_name": "HTMLView",
            "description": "",
            "description_tooltip": null,
            "layout": "IPY_MODEL_f71f052fd7f54d929d16c9f4e4d38f3e",
            "placeholder": "​",
            "style": "IPY_MODEL_8f125b63aca548eebb2b1c07a397fba2",
            "value": " 740/740 [03:13&lt;00:00,  3.48it/s]"
          }
        },
        "7c5a0aca0f524ee392414540f64b03f6": {
          "model_module": "@jupyter-widgets/base",
          "model_name": "LayoutModel",
          "model_module_version": "1.2.0",
          "state": {
            "_model_module": "@jupyter-widgets/base",
            "_model_module_version": "1.2.0",
            "_model_name": "LayoutModel",
            "_view_count": null,
            "_view_module": "@jupyter-widgets/base",
            "_view_module_version": "1.2.0",
            "_view_name": "LayoutView",
            "align_content": null,
            "align_items": null,
            "align_self": null,
            "border": null,
            "bottom": null,
            "display": null,
            "flex": null,
            "flex_flow": null,
            "grid_area": null,
            "grid_auto_columns": null,
            "grid_auto_flow": null,
            "grid_auto_rows": null,
            "grid_column": null,
            "grid_gap": null,
            "grid_row": null,
            "grid_template_areas": null,
            "grid_template_columns": null,
            "grid_template_rows": null,
            "height": null,
            "justify_content": null,
            "justify_items": null,
            "left": null,
            "margin": null,
            "max_height": null,
            "max_width": null,
            "min_height": null,
            "min_width": null,
            "object_fit": null,
            "object_position": null,
            "order": null,
            "overflow": null,
            "overflow_x": null,
            "overflow_y": null,
            "padding": null,
            "right": null,
            "top": null,
            "visibility": null,
            "width": null
          }
        },
        "4d4e7877ba684cb2b7f07bffea43ef71": {
          "model_module": "@jupyter-widgets/base",
          "model_name": "LayoutModel",
          "model_module_version": "1.2.0",
          "state": {
            "_model_module": "@jupyter-widgets/base",
            "_model_module_version": "1.2.0",
            "_model_name": "LayoutModel",
            "_view_count": null,
            "_view_module": "@jupyter-widgets/base",
            "_view_module_version": "1.2.0",
            "_view_name": "LayoutView",
            "align_content": null,
            "align_items": null,
            "align_self": null,
            "border": null,
            "bottom": null,
            "display": null,
            "flex": null,
            "flex_flow": null,
            "grid_area": null,
            "grid_auto_columns": null,
            "grid_auto_flow": null,
            "grid_auto_rows": null,
            "grid_column": null,
            "grid_gap": null,
            "grid_row": null,
            "grid_template_areas": null,
            "grid_template_columns": null,
            "grid_template_rows": null,
            "height": null,
            "justify_content": null,
            "justify_items": null,
            "left": null,
            "margin": null,
            "max_height": null,
            "max_width": null,
            "min_height": null,
            "min_width": null,
            "object_fit": null,
            "object_position": null,
            "order": null,
            "overflow": null,
            "overflow_x": null,
            "overflow_y": null,
            "padding": null,
            "right": null,
            "top": null,
            "visibility": null,
            "width": null
          }
        },
        "237d5b8e37b84ab3ac309c5c7a925d43": {
          "model_module": "@jupyter-widgets/controls",
          "model_name": "DescriptionStyleModel",
          "model_module_version": "1.5.0",
          "state": {
            "_model_module": "@jupyter-widgets/controls",
            "_model_module_version": "1.5.0",
            "_model_name": "DescriptionStyleModel",
            "_view_count": null,
            "_view_module": "@jupyter-widgets/base",
            "_view_module_version": "1.2.0",
            "_view_name": "StyleView",
            "description_width": ""
          }
        },
        "b5d4fa53b5754acd8a889e7d169c3af5": {
          "model_module": "@jupyter-widgets/base",
          "model_name": "LayoutModel",
          "model_module_version": "1.2.0",
          "state": {
            "_model_module": "@jupyter-widgets/base",
            "_model_module_version": "1.2.0",
            "_model_name": "LayoutModel",
            "_view_count": null,
            "_view_module": "@jupyter-widgets/base",
            "_view_module_version": "1.2.0",
            "_view_name": "LayoutView",
            "align_content": null,
            "align_items": null,
            "align_self": null,
            "border": null,
            "bottom": null,
            "display": null,
            "flex": null,
            "flex_flow": null,
            "grid_area": null,
            "grid_auto_columns": null,
            "grid_auto_flow": null,
            "grid_auto_rows": null,
            "grid_column": null,
            "grid_gap": null,
            "grid_row": null,
            "grid_template_areas": null,
            "grid_template_columns": null,
            "grid_template_rows": null,
            "height": null,
            "justify_content": null,
            "justify_items": null,
            "left": null,
            "margin": null,
            "max_height": null,
            "max_width": null,
            "min_height": null,
            "min_width": null,
            "object_fit": null,
            "object_position": null,
            "order": null,
            "overflow": null,
            "overflow_x": null,
            "overflow_y": null,
            "padding": null,
            "right": null,
            "top": null,
            "visibility": null,
            "width": null
          }
        },
        "f52d4703f7ed401085f40f74167cbae2": {
          "model_module": "@jupyter-widgets/controls",
          "model_name": "ProgressStyleModel",
          "model_module_version": "1.5.0",
          "state": {
            "_model_module": "@jupyter-widgets/controls",
            "_model_module_version": "1.5.0",
            "_model_name": "ProgressStyleModel",
            "_view_count": null,
            "_view_module": "@jupyter-widgets/base",
            "_view_module_version": "1.2.0",
            "_view_name": "StyleView",
            "bar_color": null,
            "description_width": ""
          }
        },
        "f71f052fd7f54d929d16c9f4e4d38f3e": {
          "model_module": "@jupyter-widgets/base",
          "model_name": "LayoutModel",
          "model_module_version": "1.2.0",
          "state": {
            "_model_module": "@jupyter-widgets/base",
            "_model_module_version": "1.2.0",
            "_model_name": "LayoutModel",
            "_view_count": null,
            "_view_module": "@jupyter-widgets/base",
            "_view_module_version": "1.2.0",
            "_view_name": "LayoutView",
            "align_content": null,
            "align_items": null,
            "align_self": null,
            "border": null,
            "bottom": null,
            "display": null,
            "flex": null,
            "flex_flow": null,
            "grid_area": null,
            "grid_auto_columns": null,
            "grid_auto_flow": null,
            "grid_auto_rows": null,
            "grid_column": null,
            "grid_gap": null,
            "grid_row": null,
            "grid_template_areas": null,
            "grid_template_columns": null,
            "grid_template_rows": null,
            "height": null,
            "justify_content": null,
            "justify_items": null,
            "left": null,
            "margin": null,
            "max_height": null,
            "max_width": null,
            "min_height": null,
            "min_width": null,
            "object_fit": null,
            "object_position": null,
            "order": null,
            "overflow": null,
            "overflow_x": null,
            "overflow_y": null,
            "padding": null,
            "right": null,
            "top": null,
            "visibility": null,
            "width": null
          }
        },
        "8f125b63aca548eebb2b1c07a397fba2": {
          "model_module": "@jupyter-widgets/controls",
          "model_name": "DescriptionStyleModel",
          "model_module_version": "1.5.0",
          "state": {
            "_model_module": "@jupyter-widgets/controls",
            "_model_module_version": "1.5.0",
            "_model_name": "DescriptionStyleModel",
            "_view_count": null,
            "_view_module": "@jupyter-widgets/base",
            "_view_module_version": "1.2.0",
            "_view_name": "StyleView",
            "description_width": ""
          }
        },
        "742efe6061de4f4fb8451528e85701f1": {
          "model_module": "@jupyter-widgets/controls",
          "model_name": "HBoxModel",
          "model_module_version": "1.5.0",
          "state": {
            "_dom_classes": [],
            "_model_module": "@jupyter-widgets/controls",
            "_model_module_version": "1.5.0",
            "_model_name": "HBoxModel",
            "_view_count": null,
            "_view_module": "@jupyter-widgets/controls",
            "_view_module_version": "1.5.0",
            "_view_name": "HBoxView",
            "box_style": "",
            "children": [
              "IPY_MODEL_c1773483685740859e8f970f8f77c0ad",
              "IPY_MODEL_e87f438670934b9e99c4f9d4b4c3c19d",
              "IPY_MODEL_014dafec385e43aba3b5d4484dd8f036"
            ],
            "layout": "IPY_MODEL_d7f24c72732c417e8cf80ac594236d23"
          }
        },
        "c1773483685740859e8f970f8f77c0ad": {
          "model_module": "@jupyter-widgets/controls",
          "model_name": "HTMLModel",
          "model_module_version": "1.5.0",
          "state": {
            "_dom_classes": [],
            "_model_module": "@jupyter-widgets/controls",
            "_model_module_version": "1.5.0",
            "_model_name": "HTMLModel",
            "_view_count": null,
            "_view_module": "@jupyter-widgets/controls",
            "_view_module_version": "1.5.0",
            "_view_name": "HTMLView",
            "description": "",
            "description_tooltip": null,
            "layout": "IPY_MODEL_9dfba7ea04bf4e259a2e3a6956026a3e",
            "placeholder": "​",
            "style": "IPY_MODEL_49c0d3c14b5d436693a87cf0b5f75016",
            "value": "100%"
          }
        },
        "e87f438670934b9e99c4f9d4b4c3c19d": {
          "model_module": "@jupyter-widgets/controls",
          "model_name": "FloatProgressModel",
          "model_module_version": "1.5.0",
          "state": {
            "_dom_classes": [],
            "_model_module": "@jupyter-widgets/controls",
            "_model_module_version": "1.5.0",
            "_model_name": "FloatProgressModel",
            "_view_count": null,
            "_view_module": "@jupyter-widgets/controls",
            "_view_module_version": "1.5.0",
            "_view_name": "ProgressView",
            "bar_style": "success",
            "description": "",
            "description_tooltip": null,
            "layout": "IPY_MODEL_6a06963dbf2f47dfad2d7dbe99d82088",
            "max": 185,
            "min": 0,
            "orientation": "horizontal",
            "style": "IPY_MODEL_96e062aa17f34c8abcc60545dbcad806",
            "value": 185
          }
        },
        "014dafec385e43aba3b5d4484dd8f036": {
          "model_module": "@jupyter-widgets/controls",
          "model_name": "HTMLModel",
          "model_module_version": "1.5.0",
          "state": {
            "_dom_classes": [],
            "_model_module": "@jupyter-widgets/controls",
            "_model_module_version": "1.5.0",
            "_model_name": "HTMLModel",
            "_view_count": null,
            "_view_module": "@jupyter-widgets/controls",
            "_view_module_version": "1.5.0",
            "_view_name": "HTMLView",
            "description": "",
            "description_tooltip": null,
            "layout": "IPY_MODEL_5bb16b195699441c9cc605d9757157be",
            "placeholder": "​",
            "style": "IPY_MODEL_983d009630514ba2961749d6b074f3b4",
            "value": " 185/185 [00:51&lt;00:00,  3.96it/s]"
          }
        },
        "d7f24c72732c417e8cf80ac594236d23": {
          "model_module": "@jupyter-widgets/base",
          "model_name": "LayoutModel",
          "model_module_version": "1.2.0",
          "state": {
            "_model_module": "@jupyter-widgets/base",
            "_model_module_version": "1.2.0",
            "_model_name": "LayoutModel",
            "_view_count": null,
            "_view_module": "@jupyter-widgets/base",
            "_view_module_version": "1.2.0",
            "_view_name": "LayoutView",
            "align_content": null,
            "align_items": null,
            "align_self": null,
            "border": null,
            "bottom": null,
            "display": null,
            "flex": null,
            "flex_flow": null,
            "grid_area": null,
            "grid_auto_columns": null,
            "grid_auto_flow": null,
            "grid_auto_rows": null,
            "grid_column": null,
            "grid_gap": null,
            "grid_row": null,
            "grid_template_areas": null,
            "grid_template_columns": null,
            "grid_template_rows": null,
            "height": null,
            "justify_content": null,
            "justify_items": null,
            "left": null,
            "margin": null,
            "max_height": null,
            "max_width": null,
            "min_height": null,
            "min_width": null,
            "object_fit": null,
            "object_position": null,
            "order": null,
            "overflow": null,
            "overflow_x": null,
            "overflow_y": null,
            "padding": null,
            "right": null,
            "top": null,
            "visibility": null,
            "width": null
          }
        },
        "9dfba7ea04bf4e259a2e3a6956026a3e": {
          "model_module": "@jupyter-widgets/base",
          "model_name": "LayoutModel",
          "model_module_version": "1.2.0",
          "state": {
            "_model_module": "@jupyter-widgets/base",
            "_model_module_version": "1.2.0",
            "_model_name": "LayoutModel",
            "_view_count": null,
            "_view_module": "@jupyter-widgets/base",
            "_view_module_version": "1.2.0",
            "_view_name": "LayoutView",
            "align_content": null,
            "align_items": null,
            "align_self": null,
            "border": null,
            "bottom": null,
            "display": null,
            "flex": null,
            "flex_flow": null,
            "grid_area": null,
            "grid_auto_columns": null,
            "grid_auto_flow": null,
            "grid_auto_rows": null,
            "grid_column": null,
            "grid_gap": null,
            "grid_row": null,
            "grid_template_areas": null,
            "grid_template_columns": null,
            "grid_template_rows": null,
            "height": null,
            "justify_content": null,
            "justify_items": null,
            "left": null,
            "margin": null,
            "max_height": null,
            "max_width": null,
            "min_height": null,
            "min_width": null,
            "object_fit": null,
            "object_position": null,
            "order": null,
            "overflow": null,
            "overflow_x": null,
            "overflow_y": null,
            "padding": null,
            "right": null,
            "top": null,
            "visibility": null,
            "width": null
          }
        },
        "49c0d3c14b5d436693a87cf0b5f75016": {
          "model_module": "@jupyter-widgets/controls",
          "model_name": "DescriptionStyleModel",
          "model_module_version": "1.5.0",
          "state": {
            "_model_module": "@jupyter-widgets/controls",
            "_model_module_version": "1.5.0",
            "_model_name": "DescriptionStyleModel",
            "_view_count": null,
            "_view_module": "@jupyter-widgets/base",
            "_view_module_version": "1.2.0",
            "_view_name": "StyleView",
            "description_width": ""
          }
        },
        "6a06963dbf2f47dfad2d7dbe99d82088": {
          "model_module": "@jupyter-widgets/base",
          "model_name": "LayoutModel",
          "model_module_version": "1.2.0",
          "state": {
            "_model_module": "@jupyter-widgets/base",
            "_model_module_version": "1.2.0",
            "_model_name": "LayoutModel",
            "_view_count": null,
            "_view_module": "@jupyter-widgets/base",
            "_view_module_version": "1.2.0",
            "_view_name": "LayoutView",
            "align_content": null,
            "align_items": null,
            "align_self": null,
            "border": null,
            "bottom": null,
            "display": null,
            "flex": null,
            "flex_flow": null,
            "grid_area": null,
            "grid_auto_columns": null,
            "grid_auto_flow": null,
            "grid_auto_rows": null,
            "grid_column": null,
            "grid_gap": null,
            "grid_row": null,
            "grid_template_areas": null,
            "grid_template_columns": null,
            "grid_template_rows": null,
            "height": null,
            "justify_content": null,
            "justify_items": null,
            "left": null,
            "margin": null,
            "max_height": null,
            "max_width": null,
            "min_height": null,
            "min_width": null,
            "object_fit": null,
            "object_position": null,
            "order": null,
            "overflow": null,
            "overflow_x": null,
            "overflow_y": null,
            "padding": null,
            "right": null,
            "top": null,
            "visibility": null,
            "width": null
          }
        },
        "96e062aa17f34c8abcc60545dbcad806": {
          "model_module": "@jupyter-widgets/controls",
          "model_name": "ProgressStyleModel",
          "model_module_version": "1.5.0",
          "state": {
            "_model_module": "@jupyter-widgets/controls",
            "_model_module_version": "1.5.0",
            "_model_name": "ProgressStyleModel",
            "_view_count": null,
            "_view_module": "@jupyter-widgets/base",
            "_view_module_version": "1.2.0",
            "_view_name": "StyleView",
            "bar_color": null,
            "description_width": ""
          }
        },
        "5bb16b195699441c9cc605d9757157be": {
          "model_module": "@jupyter-widgets/base",
          "model_name": "LayoutModel",
          "model_module_version": "1.2.0",
          "state": {
            "_model_module": "@jupyter-widgets/base",
            "_model_module_version": "1.2.0",
            "_model_name": "LayoutModel",
            "_view_count": null,
            "_view_module": "@jupyter-widgets/base",
            "_view_module_version": "1.2.0",
            "_view_name": "LayoutView",
            "align_content": null,
            "align_items": null,
            "align_self": null,
            "border": null,
            "bottom": null,
            "display": null,
            "flex": null,
            "flex_flow": null,
            "grid_area": null,
            "grid_auto_columns": null,
            "grid_auto_flow": null,
            "grid_auto_rows": null,
            "grid_column": null,
            "grid_gap": null,
            "grid_row": null,
            "grid_template_areas": null,
            "grid_template_columns": null,
            "grid_template_rows": null,
            "height": null,
            "justify_content": null,
            "justify_items": null,
            "left": null,
            "margin": null,
            "max_height": null,
            "max_width": null,
            "min_height": null,
            "min_width": null,
            "object_fit": null,
            "object_position": null,
            "order": null,
            "overflow": null,
            "overflow_x": null,
            "overflow_y": null,
            "padding": null,
            "right": null,
            "top": null,
            "visibility": null,
            "width": null
          }
        },
        "983d009630514ba2961749d6b074f3b4": {
          "model_module": "@jupyter-widgets/controls",
          "model_name": "DescriptionStyleModel",
          "model_module_version": "1.5.0",
          "state": {
            "_model_module": "@jupyter-widgets/controls",
            "_model_module_version": "1.5.0",
            "_model_name": "DescriptionStyleModel",
            "_view_count": null,
            "_view_module": "@jupyter-widgets/base",
            "_view_module_version": "1.2.0",
            "_view_name": "StyleView",
            "description_width": ""
          }
        }
      }
    }
  },
  "nbformat": 4,
  "nbformat_minor": 0
}